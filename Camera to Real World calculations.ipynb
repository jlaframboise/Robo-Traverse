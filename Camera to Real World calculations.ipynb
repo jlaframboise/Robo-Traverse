{
 "cells": [
  {
   "cell_type": "code",
   "execution_count": 18,
   "metadata": {
    "scrolled": false
   },
   "outputs": [
    {
     "name": "stdout",
     "output_type": "stream",
     "text": [
      "[[[-5.9219675e+00  9.2517653e+00]\n",
      "  [ 5.7489710e+00  1.0052850e+01]\n",
      "  [-1.2034660e+01  2.3853720e+01]\n",
      "  [-5.8833542e+00  2.4074663e+01]\n",
      "  [ 5.2245580e-02  2.3776371e+01]\n",
      "  [ 6.1507149e+00  2.4014803e+01]\n",
      "  [ 1.1979263e+01  2.3769726e+01]\n",
      "  [-1.2041016e+01  3.6660583e+01]\n",
      "  [-6.0218773e+00  3.6523392e+01]\n",
      "  [ 2.1002762e-02  3.6408012e+01]\n",
      "  [ 5.9982157e+00  3.5744156e+01]\n",
      "  [ 1.2061209e+01  3.5684769e+01]\n",
      "  [-2.3971888e+01  4.7262135e+01]\n",
      "  [-1.7998644e+01  4.7744934e+01]\n",
      "  [-1.2119477e+01  4.8220131e+01]\n",
      "  [-6.0403280e+00  4.8711494e+01]\n",
      "  [-3.1130902e-02  4.7121845e+01]\n",
      "  [ 6.1041603e+00  4.8632511e+01]\n",
      "  [ 1.2099576e+01  4.8100948e+01]\n",
      "  [ 1.7848986e+01  4.7591194e+01]]]\n"
     ]
    }
   ],
   "source": [
    "import cv2    # import the OpenCV library\n",
    "import numpy as np  # import the numpy library\n",
    "\n",
    "# provide points from camera image\n",
    "pts_img = np.array([  [13, 477], [640, 480], [101, 331],[225, 332], [347, 335], [478, 336], [611, 339], [189, 300], [268, 301], [350, 302], [435, 304], [524, 305], [107, 286], [168, 286], [228, 286], [290, 286], [351, 288], [415, 287], [480, 288], [545, 289]])\n",
    "# corresponding points in real world (i.e. (13, 477) matches (-6, 9.6))\n",
    "pts_world = np.array([[-6, 9.6],  [6, 9.6],  [-12, 24], [-6, 24],   [0, 24],    [6, 24],    [12, 24],   [-12, 36],  [-6, 36],   [0, 36],    [6, 36],    [12, 36],   [-24, 48],  [-18, 48],  [-12, 48],  [-6, 48],   [0, 48],    [6, 48],    [12, 48],   [18, 48]])\n",
    " \n",
    "# calculate matrix H\n",
    "h, status = cv2.findHomography(pts_img, pts_world)\n",
    " \n",
    "# provide a point you wish to map from camera to world\n",
    "a = np.array([[13, 477], [640, 480], [101, 331],[225, 332], [347, 335], \n",
    "              [478, 336], [611, 339], [189, 300], [268, 301], [350, 302], \n",
    "              [435, 304], [524, 305], [107, 286], [168, 286], [228, 286], \n",
    "              [290, 286], [351, 288], [415, 287], [480, 288], [545, 289]], dtype='float32')\n",
    "a = np.array([a])\n",
    " \n",
    "# get the mapping\n",
    "pointsOut = cv2.perspectiveTransform(a, h)\n",
    "print(pointsOut)"
   ]
  },
  {
   "cell_type": "code",
   "execution_count": null,
   "metadata": {},
   "outputs": [],
   "source": []
  }
 ],
 "metadata": {
  "kernelspec": {
   "display_name": "Python 3",
   "language": "python",
   "name": "python3"
  },
  "language_info": {
   "codemirror_mode": {
    "name": "ipython",
    "version": 3
   },
   "file_extension": ".py",
   "mimetype": "text/x-python",
   "name": "python",
   "nbconvert_exporter": "python",
   "pygments_lexer": "ipython3",
   "version": "3.7.4"
  }
 },
 "nbformat": 4,
 "nbformat_minor": 2
}
