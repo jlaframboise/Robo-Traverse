{
 "cells": [
  {
   "cell_type": "code",
   "execution_count": 1,
   "metadata": {},
   "outputs": [
    {
     "name": "stdout",
     "output_type": "stream",
     "text": [
      "2.0.0\n"
     ]
    }
   ],
   "source": [
    "from __future__ import absolute_import, division, print_function, unicode_literals\n",
    "\n",
    "# TensorFlow and tf.keras\n",
    "import tensorflow as tf\n",
    "from tensorflow import keras\n",
    "from tensorflow.keras.layers import *\n",
    "\n",
    "# Helper libraries\n",
    "import numpy as np\n",
    "import matplotlib.pyplot as plt\n",
    "\n",
    "print(tf.__version__)"
   ]
  },
  {
   "cell_type": "code",
   "execution_count": null,
   "metadata": {},
   "outputs": [],
   "source": []
  },
  {
   "cell_type": "code",
   "execution_count": 2,
   "metadata": {
    "scrolled": true
   },
   "outputs": [
    {
     "ename": "FileNotFoundError",
     "evalue": "[WinError 3] The system cannot find the path specified: '/home/jack/Desktop/pothole_classification/normal/'",
     "output_type": "error",
     "traceback": [
      "\u001b[1;31m---------------------------------------------------------------------------\u001b[0m",
      "\u001b[1;31mFileNotFoundError\u001b[0m                         Traceback (most recent call last)",
      "\u001b[1;32m<ipython-input-2-ed35da46c70a>\u001b[0m in \u001b[0;36m<module>\u001b[1;34m\u001b[0m\n\u001b[0;32m      7\u001b[0m \u001b[1;33m\u001b[0m\u001b[0m\n\u001b[0;32m      8\u001b[0m \u001b[1;32mfor\u001b[0m \u001b[0mfolder\u001b[0m \u001b[1;32min\u001b[0m \u001b[1;33m[\u001b[0m\u001b[1;34m\"normal/\"\u001b[0m\u001b[1;33m,\u001b[0m \u001b[1;34m\"potholes/\"\u001b[0m\u001b[1;33m]\u001b[0m\u001b[1;33m:\u001b[0m\u001b[1;33m\u001b[0m\u001b[1;33m\u001b[0m\u001b[0m\n\u001b[1;32m----> 9\u001b[1;33m     \u001b[1;32mfor\u001b[0m \u001b[0mfilename\u001b[0m \u001b[1;32min\u001b[0m \u001b[0mos\u001b[0m\u001b[1;33m.\u001b[0m\u001b[0mlistdir\u001b[0m\u001b[1;33m(\u001b[0m\u001b[0mdataFolder\u001b[0m\u001b[1;33m+\u001b[0m\u001b[0mfolder\u001b[0m\u001b[1;33m)\u001b[0m\u001b[1;33m:\u001b[0m\u001b[1;33m\u001b[0m\u001b[1;33m\u001b[0m\u001b[0m\n\u001b[0m\u001b[0;32m     10\u001b[0m         \u001b[0mlabels\u001b[0m\u001b[1;33m.\u001b[0m\u001b[0mappend\u001b[0m\u001b[1;33m(\u001b[0m\u001b[1;33m[\u001b[0m\u001b[0mdataFolder\u001b[0m\u001b[1;33m+\u001b[0m\u001b[0mfolder\u001b[0m\u001b[1;33m+\u001b[0m\u001b[0mfilename\u001b[0m\u001b[1;33m,\u001b[0m \u001b[0mint\u001b[0m\u001b[1;33m(\u001b[0m\u001b[0mfolder\u001b[0m \u001b[1;33m==\u001b[0m \u001b[1;34m\"potholes/\"\u001b[0m\u001b[1;33m)\u001b[0m\u001b[1;33m]\u001b[0m\u001b[1;33m)\u001b[0m\u001b[1;33m\u001b[0m\u001b[1;33m\u001b[0m\u001b[0m\n\u001b[0;32m     11\u001b[0m \u001b[1;33m\u001b[0m\u001b[0m\n",
      "\u001b[1;31mFileNotFoundError\u001b[0m: [WinError 3] The system cannot find the path specified: '/home/jack/Desktop/pothole_classification/normal/'"
     ]
    }
   ],
   "source": [
    "import os\n",
    "import pandas as pd\n",
    "\n",
    "dataFolder = r\"/home/jack/Desktop/pothole_classification/\"\n",
    "\n",
    "labels = []\n",
    "\n",
    "for folder in [\"normal/\", \"potholes/\"]:\n",
    "    for filename in os.listdir(dataFolder+folder):\n",
    "        labels.append([dataFolder+folder+filename, int(folder == \"potholes/\")])\n",
    "\n",
    "\n",
    "labelDf = pd.DataFrame(labels, columns=[\"filename\",\"class\"])\n",
    "\n",
    "\n",
    "    \n",
    "    "
   ]
  },
  {
   "cell_type": "code",
   "execution_count": null,
   "metadata": {},
   "outputs": [],
   "source": [
    "labelDf\n"
   ]
  },
  {
   "cell_type": "code",
   "execution_count": null,
   "metadata": {},
   "outputs": [],
   "source": [
    "from PIL import Image\n",
    "\n",
    "def retrieveImage(fPath):\n",
    "    pic = np.asarray(Image.open(fPath).convert('RGB').resize((128,128))) / 255.0\n",
    "    return pic"
   ]
  },
  {
   "cell_type": "code",
   "execution_count": null,
   "metadata": {},
   "outputs": [],
   "source": [
    "X = np.array(labelDf.filename.apply(retrieveImage).tolist())\n",
    "Y = labelDf[['class']].to_numpy()"
   ]
  },
  {
   "cell_type": "code",
   "execution_count": null,
   "metadata": {},
   "outputs": [],
   "source": [
    "print(X.shape)\n",
    "print(Y.shape)"
   ]
  },
  {
   "cell_type": "code",
   "execution_count": null,
   "metadata": {},
   "outputs": [],
   "source": [
    "class_names = [\"normal\", \"potholes\"]"
   ]
  },
  {
   "cell_type": "code",
   "execution_count": null,
   "metadata": {},
   "outputs": [],
   "source": [
    "plt.figure()\n",
    "plt.imshow(X[600])\n",
    "plt.grid(False)\n",
    "plt.show()"
   ]
  },
  {
   "cell_type": "code",
   "execution_count": null,
   "metadata": {},
   "outputs": [],
   "source": [
    "X = X / 255.0"
   ]
  },
  {
   "cell_type": "code",
   "execution_count": null,
   "metadata": {},
   "outputs": [],
   "source": [
    "plt.figure(figsize=(10,10))\n",
    "for i in range(25):\n",
    "    plt.subplot(5,5,i+1)\n",
    "    plt.xticks([])\n",
    "    plt.yticks([])\n",
    "    plt.grid(False)\n",
    "    plt.imshow(X[i*20]*255.0, cmap=plt.cm.binary)\n",
    "    plt.xlabel(Y[i*20])\n",
    "plt.show()"
   ]
  },
  {
   "cell_type": "code",
   "execution_count": null,
   "metadata": {},
   "outputs": [],
   "source": [
    "model = keras.Sequential([\n",
    "#     Conv2D(16, (2,2), input_shape=(128, 128, 3), activation='relu')\n",
    "    keras.layers.Flatten(input_shape =(128,128,3)),\n",
    "    keras.layers.Dense(256*2, activation='relu'),\n",
    "    keras.layers.Dense(256*2, activation='relu'),\n",
    "    keras.layers.Dense(2, activation='softmax')\n",
    "])"
   ]
  },
  {
   "cell_type": "code",
   "execution_count": null,
   "metadata": {},
   "outputs": [],
   "source": [
    "model.summary()"
   ]
  },
  {
   "cell_type": "code",
   "execution_count": 93,
   "metadata": {},
   "outputs": [],
   "source": [
    "model.compile(optimizer='adam',\n",
    "             loss='categorical_crossentropy',\n",
    "             metrics=['accuracy'])"
   ]
  },
  {
   "cell_type": "code",
   "execution_count": 94,
   "metadata": {},
   "outputs": [],
   "source": [
    "from sklearn.model_selection import train_test_split\n",
    "\n",
    "train_images, test_images, train_labels, test_labels = train_test_split(X,Y,test_size=0.2, shuffle = True)"
   ]
  },
  {
   "cell_type": "code",
   "execution_count": 95,
   "metadata": {},
   "outputs": [
    {
     "name": "stdout",
     "output_type": "stream",
     "text": [
      "Epoch 1/30\n",
      "544/544 [==============================] - 2s 4ms/sample - loss: 0.7028 - acc: 0.5423\n",
      "Epoch 2/30\n",
      "544/544 [==============================] - 2s 3ms/sample - loss: 0.6528 - acc: 0.6140\n",
      "Epoch 3/30\n",
      "544/544 [==============================] - 2s 3ms/sample - loss: 0.5957 - acc: 0.6581\n",
      "Epoch 4/30\n",
      "544/544 [==============================] - 2s 3ms/sample - loss: 0.5304 - acc: 0.7408\n",
      "Epoch 5/30\n",
      "544/544 [==============================] - 2s 3ms/sample - loss: 0.4988 - acc: 0.7592\n",
      "Epoch 6/30\n",
      "544/544 [==============================] - 2s 3ms/sample - loss: 0.4824 - acc: 0.7647\n",
      "Epoch 7/30\n",
      "544/544 [==============================] - 2s 3ms/sample - loss: 0.4403 - acc: 0.8015\n",
      "Epoch 8/30\n",
      "544/544 [==============================] - 2s 3ms/sample - loss: 0.4026 - acc: 0.8309\n",
      "Epoch 9/30\n",
      "544/544 [==============================] - 2s 3ms/sample - loss: 0.3671 - acc: 0.8511\n",
      "Epoch 10/30\n",
      "544/544 [==============================] - 2s 3ms/sample - loss: 0.3526 - acc: 0.8548\n",
      "Epoch 11/30\n",
      "544/544 [==============================] - 2s 3ms/sample - loss: 0.3356 - acc: 0.8824\n",
      "Epoch 12/30\n",
      "544/544 [==============================] - 2s 3ms/sample - loss: 0.3441 - acc: 0.8640\n",
      "Epoch 13/30\n",
      "544/544 [==============================] - 2s 3ms/sample - loss: 0.3121 - acc: 0.8621\n",
      "Epoch 14/30\n",
      "544/544 [==============================] - 2s 3ms/sample - loss: 0.3055 - acc: 0.8860\n",
      "Epoch 15/30\n",
      "544/544 [==============================] - 2s 3ms/sample - loss: 0.2776 - acc: 0.8915\n",
      "Epoch 16/30\n",
      "544/544 [==============================] - 2s 3ms/sample - loss: 0.2742 - acc: 0.8934\n",
      "Epoch 17/30\n",
      "544/544 [==============================] - 2s 3ms/sample - loss: 0.2256 - acc: 0.9265\n",
      "Epoch 18/30\n",
      "544/544 [==============================] - 2s 3ms/sample - loss: 0.1999 - acc: 0.9320\n",
      "Epoch 19/30\n",
      "544/544 [==============================] - 2s 3ms/sample - loss: 0.1727 - acc: 0.9596\n",
      "Epoch 20/30\n",
      "544/544 [==============================] - 2s 3ms/sample - loss: 0.1706 - acc: 0.9467\n",
      "Epoch 21/30\n",
      "544/544 [==============================] - 2s 3ms/sample - loss: 0.1420 - acc: 0.9651\n",
      "Epoch 22/30\n",
      "544/544 [==============================] - 2s 3ms/sample - loss: 0.1471 - acc: 0.9540\n",
      "Epoch 23/30\n",
      "544/544 [==============================] - 2s 4ms/sample - loss: 0.2321 - acc: 0.9081\n",
      "Epoch 24/30\n",
      "544/544 [==============================] - 2s 3ms/sample - loss: 0.1894 - acc: 0.9228\n",
      "Epoch 25/30\n",
      "544/544 [==============================] - 2s 3ms/sample - loss: 0.1033 - acc: 0.9798\n",
      "Epoch 26/30\n",
      "544/544 [==============================] - 2s 3ms/sample - loss: 0.1055 - acc: 0.9688\n",
      "Epoch 27/30\n",
      "544/544 [==============================] - 2s 3ms/sample - loss: 0.0937 - acc: 0.9779\n",
      "Epoch 28/30\n",
      "544/544 [==============================] - 2s 3ms/sample - loss: 0.1138 - acc: 0.9632\n",
      "Epoch 29/30\n",
      "544/544 [==============================] - 2s 3ms/sample - loss: 0.0984 - acc: 0.9688\n",
      "Epoch 30/30\n",
      "544/544 [==============================] - 2s 3ms/sample - loss: 0.0672 - acc: 0.9835\n"
     ]
    },
    {
     "data": {
      "text/plain": [
       "<tensorflow.python.keras.callbacks.History at 0x7f278451e710>"
      ]
     },
     "execution_count": 95,
     "metadata": {},
     "output_type": "execute_result"
    }
   ],
   "source": [
    "model.fit(train_images, train_labels, epochs=30)"
   ]
  },
  {
   "cell_type": "code",
   "execution_count": 97,
   "metadata": {},
   "outputs": [
    {
     "name": "stdout",
     "output_type": "stream",
     "text": [
      "137/137 - 0s - loss: 0.3655 - acc: 0.8686\n",
      "\n",
      "Test accuracy: 0.8686131\n"
     ]
    }
   ],
   "source": [
    "test_loss, test_acc = model.evaluate(test_images,  test_labels, verbose=2)\n",
    "\n",
    "print('\\nTest accuracy:', test_acc)\n"
   ]
  },
  {
   "cell_type": "code",
   "execution_count": null,
   "metadata": {},
   "outputs": [],
   "source": []
  }
 ],
 "metadata": {
  "kernelspec": {
   "display_name": "Python 3",
   "language": "python",
   "name": "python3"
  },
  "language_info": {
   "codemirror_mode": {
    "name": "ipython",
    "version": 3
   },
   "file_extension": ".py",
   "mimetype": "text/x-python",
   "name": "python",
   "nbconvert_exporter": "python",
   "pygments_lexer": "ipython3",
   "version": "3.5.3"
  }
 },
 "nbformat": 4,
 "nbformat_minor": 4
}
