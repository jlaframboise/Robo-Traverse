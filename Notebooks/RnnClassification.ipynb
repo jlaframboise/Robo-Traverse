{
 "cells": [
  {
   "cell_type": "code",
   "execution_count": 1,
   "metadata": {},
   "outputs": [],
   "source": [
    "# imports\n",
    "\n",
    "import pandas as pd\n",
    "import numpy as np\n",
    "import seaborn as sns\n",
    "import matplotlib.pyplot as plt\n",
    "import os\n",
    "from sklearn.cluster import KMeans\n",
    "from sklearn.decomposition import PCA\n",
    "from sklearn.preprocessing import StandardScaler, MinMaxScaler, RobustScaler, PowerTransformer\n",
    "from sklearn.model_selection import train_test_split\n",
    "from sklearn.linear_model import LogisticRegression\n",
    "from sklearn import metrics\n",
    "\n",
    "from sklearn.feature_selection import SelectKBest, chi2\n",
    "\n",
    "import plotly as ply\n",
    "import plotly.graph_objs as go\n",
    "from plotly.offline import download_plotlyjs, init_notebook_mode, plot, iplot\n",
    "%matplotlib notebook\n",
    "\n",
    "#os.environ['KERAS_BACKEND'] = 'tensorflow'\n",
    "from tensorflow.keras import backend as keras\n",
    "from tensorflow.keras.models import Sequential\n",
    "from tensorflow.keras.layers import *\n",
    "\n",
    "\n",
    "pd.set_option('display.max_columns', 120)\n",
    "pd.set_option('display.max_rows', 80)"
   ]
  },
  {
   "cell_type": "code",
   "execution_count": 2,
   "metadata": {},
   "outputs": [],
   "source": [
    "## Data Pre-Processing\n",
    "#### We load in individual csv files collected from Rosbag on TurtleBot3 with ROS."
   ]
  },
  {
   "cell_type": "code",
   "execution_count": 3,
   "metadata": {},
   "outputs": [],
   "source": [
    "dataFolder = r\"C:\\Users\\jaker\\Documents\\Experiment3Data-2019-11-21\"\n",
    "\n",
    "dataFiles = [\n",
    "    r\"gMitTile_s15_t8.csv\",\n",
    "    r\"gMitTile_s15_t9.csv\",\n",
    "    r\"gMitTile_s15_t10.csv\",\n",
    "    r\"gTurf_s15_t3.csv\",\n",
    "    r\"gTurf_s15_t4.csv\",\n",
    "    r\"gTurf_s15_t5.csv\",\n",
    "    r\"gTurf_s15_t6.csv\",\n",
    "    r\"gTurf_s15_t7.csv\",\n",
    "    r\"gTurf_s15_t8.csv\",\n",
    "    r\"gTurf_s15_t9.csv\",\n",
    "    r\"gTurf_s15_t10.csv\",\n",
    "    r\"gArcTile_s15_t3.csv\",\n",
    "    r\"gArcTile_s15_t4.csv\",\n",
    "    r\"gArcTile_s15_t5.csv\",\n",
    "    r\"gArcTile_s15_t6.csv\",\n",
    "    r\"gArcTile_s15_t7.csv\",\n",
    "    r\"gArcTile_s15_t8.csv\",\n",
    "    r\"gArcTile_s15_t9.csv\",\n",
    "    r\"gArcTile_s15_t10.csv\",\n",
    "    r\"gCarp_s15_t3.csv\",\n",
    "    r\"gCarp_s15_t4.csv\",\n",
    "    r\"gCarp_s15_t5.csv\",\n",
    "    r\"gCarp_s15_t6.csv\",\n",
    "    r\"gCarp_s15_t7.csv\",\n",
    "    r\"gCarp_s15_t8.csv\",\n",
    "    r\"gCarp_s15_t9.csv\",\n",
    "    r\"gCarp_s15_t10.csv\",\n",
    "    r\"gMitTile_s15_t3.csv\",\n",
    "    r\"gMitTile_s15_t4.csv\",\n",
    "    r\"gMitTile_s15_t5.csv\",\n",
    "    r\"gMitTile_s15_t6.csv\",\n",
    "    r\"gMitTile_s15_t7.csv\"\n",
    "]\n",
    "\n",
    "savePath = \"Data-32Series-Delta30-Squared.csv\""
   ]
  },
  {
   "cell_type": "code",
   "execution_count": 4,
   "metadata": {},
   "outputs": [
    {
     "name": "stdout",
     "output_type": "stream",
     "text": [
      "From dataframe with length 3831 we added: \n",
      "Added 766 samples of size 10 by 15 of class:\n",
      "[0. 0. 0. 1.]\n",
      "From dataframe with length 4331 we added: \n",
      "Added 866 samples of size 10 by 15 of class:\n",
      "[0. 0. 0. 1.]\n",
      "From dataframe with length 4853 we added: \n",
      "Added 970 samples of size 10 by 15 of class:\n",
      "[0. 0. 0. 1.]\n",
      "From dataframe with length 6101 we added: \n",
      "Added 1220 samples of size 10 by 15 of class:\n",
      "[0. 1. 0. 0.]\n",
      "From dataframe with length 5840 we added: \n",
      "Added 1168 samples of size 10 by 15 of class:\n",
      "[0. 1. 0. 0.]\n",
      "From dataframe with length 3352 we added: \n",
      "Added 670 samples of size 10 by 15 of class:\n",
      "[0. 1. 0. 0.]\n",
      "From dataframe with length 5253 we added: \n",
      "Added 1050 samples of size 10 by 15 of class:\n",
      "[0. 1. 0. 0.]\n",
      "From dataframe with length 5251 we added: \n",
      "Added 1050 samples of size 10 by 15 of class:\n",
      "[0. 1. 0. 0.]\n",
      "From dataframe with length 6668 we added: \n",
      "Added 1332 samples of size 10 by 15 of class:\n",
      "[0. 1. 0. 0.]\n",
      "From dataframe with length 5075 we added: \n",
      "Added 1014 samples of size 10 by 15 of class:\n",
      "[0. 1. 0. 0.]\n",
      "From dataframe with length 7149 we added: \n",
      "Added 1428 samples of size 10 by 15 of class:\n",
      "[0. 1. 0. 0.]\n",
      "From dataframe with length 6218 we added: \n",
      "Added 1242 samples of size 10 by 15 of class:\n",
      "[0. 0. 1. 0.]\n",
      "From dataframe with length 4618 we added: \n",
      "Added 922 samples of size 10 by 15 of class:\n",
      "[0. 0. 1. 0.]\n",
      "From dataframe with length 5554 we added: \n",
      "Added 1110 samples of size 10 by 15 of class:\n",
      "[0. 0. 1. 0.]\n",
      "From dataframe with length 4747 we added: \n",
      "Added 948 samples of size 10 by 15 of class:\n",
      "[0. 0. 1. 0.]\n",
      "From dataframe with length 4021 we added: \n",
      "Added 804 samples of size 10 by 15 of class:\n",
      "[0. 0. 1. 0.]\n",
      "From dataframe with length 3641 we added: \n",
      "Added 728 samples of size 10 by 15 of class:\n",
      "[0. 0. 1. 0.]\n",
      "From dataframe with length 6431 we added: \n",
      "Added 1286 samples of size 10 by 15 of class:\n",
      "[0. 0. 1. 0.]\n",
      "From dataframe with length 4441 we added: \n",
      "Added 888 samples of size 10 by 15 of class:\n",
      "[0. 0. 1. 0.]\n",
      "From dataframe with length 2534 we added: \n",
      "Added 506 samples of size 10 by 15 of class:\n",
      "[1. 0. 0. 0.]\n",
      "From dataframe with length 3028 we added: \n",
      "Added 604 samples of size 10 by 15 of class:\n",
      "[1. 0. 0. 0.]\n",
      "From dataframe with length 2820 we added: \n",
      "Added 564 samples of size 10 by 15 of class:\n",
      "[1. 0. 0. 0.]\n",
      "From dataframe with length 4819 we added: \n",
      "Added 962 samples of size 10 by 15 of class:\n",
      "[1. 0. 0. 0.]\n",
      "From dataframe with length 2492 we added: \n",
      "Added 498 samples of size 10 by 15 of class:\n",
      "[1. 0. 0. 0.]\n",
      "From dataframe with length 5633 we added: \n",
      "Added 1126 samples of size 10 by 15 of class:\n",
      "[1. 0. 0. 0.]\n",
      "From dataframe with length 6742 we added: \n",
      "Added 1348 samples of size 10 by 15 of class:\n",
      "[1. 0. 0. 0.]\n",
      "From dataframe with length 6740 we added: \n",
      "Added 1348 samples of size 10 by 15 of class:\n",
      "[1. 0. 0. 0.]\n",
      "From dataframe with length 5307 we added: \n",
      "Added 1060 samples of size 10 by 15 of class:\n",
      "[0. 0. 0. 1.]\n",
      "From dataframe with length 4724 we added: \n",
      "Added 944 samples of size 10 by 15 of class:\n",
      "[0. 0. 0. 1.]\n",
      "From dataframe with length 3879 we added: \n",
      "Added 774 samples of size 10 by 15 of class:\n",
      "[0. 0. 0. 1.]\n",
      "From dataframe with length 4708 we added: \n",
      "Added 940 samples of size 10 by 15 of class:\n",
      "[0. 0. 0. 1.]\n",
      "From dataframe with length 4184 we added: \n",
      "Added 836 samples of size 10 by 15 of class:\n",
      "[0. 0. 0. 1.]\n"
     ]
    }
   ],
   "source": [
    "\"\"\" \n",
    "For each data file we:\n",
    "adjust the index, \n",
    "interpolate NaN values,\n",
    "drop remaining NaN values, \n",
    "drop some empty columns.\n",
    "\n",
    "We then augment the feature space with delta columns, \n",
    "and with polynomial columns,\n",
    "and label the columns with terrain, speed, and trial number\n",
    "\n",
    "\n",
    "\"\"\"\n",
    "\n",
    "\n",
    "for i in range(len(dataFiles)):\n",
    "    terrain = dataFiles[i].split('_')[0][1:]\n",
    "    speed = dataFiles[i].split('_s')[1][:2]\n",
    "    trial = dataFiles[i].split('_t')[1][0]\n",
    "\n",
    "    df = pd.read_csv(os.path.join(dataFolder, dataFiles[i]))\n",
    "    df = df.rename(columns={'Unnamed: 0': 'Seq'})\n",
    "    df = df.set_index('Seq')\n",
    "\n",
    "    #print(df.isnull().sum().sum())\n",
    "    df = df.interpolate(method='polynomial', order=1)\n",
    "    #print(df.isnull().sum().sum())\n",
    "\n",
    "    df = df.dropna()\n",
    "    #print(df.isnull().sum().sum())\n",
    "    df = df.reset_index().drop(columns=['Seq'])\n",
    "\n",
    "    df = df.drop(columns=['OdomPosZ', 'OdomOrientX', 'OdomOrientY', 'OdomLinY', 'OdomLinZ', 'OdomAngX', 'OdomAngY'])\n",
    "    df['OdomPosXY'] = np.sqrt(df.OdomPosX**2 + df.OdomPosY**2)\n",
    "    df = df.drop(columns=['OdomPosY', 'OdomPosX'])\n",
    "    \n",
    "    df = df.reset_index().drop(columns=['index'])\n",
    "    df = df.drop(columns=['Sensor', 'Time'])\n",
    "#     df['Speed']=int(speed)\n",
    "#     df['Terrain']=terrain\n",
    "#     df['Trial']=int(trial)\n",
    "    \n",
    "    origLength = df.shape[0]\n",
    "\n",
    "    sampleSize = 10\n",
    "    \n",
    "    length = origLength - origLength%sampleSize\n",
    "    df = df.iloc[:length]\n",
    "    \n",
    "    numShifts = 2 # we split into sections with overlap 50%\n",
    "\n",
    "    dfArrayA = df.to_numpy()\n",
    "    dfArrayB = np.roll(df.to_numpy(), sampleSize//2, axis=0)\n",
    "    dfArray = np.concatenate((dfArrayA, dfArrayB))\n",
    "#     print(\"A\")\n",
    "#     print(dfArrayA.shape)\n",
    "#     print(\"B\")\n",
    "#     print(dfArrayB.shape)\n",
    "#     print(\"dfArray\")\n",
    "#     print(dfArray.shape)\n",
    "    \n",
    "    numSamples = length//sampleSize*numShifts\n",
    "#     print(\"Num samples\")\n",
    "#     print(numSamples)\n",
    "    \n",
    "    samples = np.array(np.array_split(dfArray, numSamples, axis=0))\n",
    "    \n",
    "    terrLabel = ['Carp', 'Turf', 'ArcTile', 'MitTile'].index(terrain)\n",
    "    label = np.zeros(4)\n",
    "    label[terrLabel] = 1.0\n",
    "    labels = np.array([label for x in range(len(samples))])\n",
    "    \n",
    "    if i==0:\n",
    "        xSamples = np.array(np.copy(samples))\n",
    "        yLabels = np.array(np.copy(labels))\n",
    "    else:\n",
    "        xSamples = np.concatenate((xSamples, samples))\n",
    "        yLabels = np.concatenate((yLabels, labels))\n",
    "    print(\"From dataframe with length {} we added: \".format(origLength))                             \n",
    "    print(\"Added {} samples of size {} by {} of class:\".format(samples.shape[0], samples.shape[1],samples.shape[2]))\n",
    "    print(label)\n",
    "    \n"
   ]
  },
  {
   "cell_type": "code",
   "execution_count": 5,
   "metadata": {},
   "outputs": [],
   "source": [
    "xSamples = xSamples.astype('float64')\n",
    "yLabels = yLabels.astype('float64')"
   ]
  },
  {
   "cell_type": "code",
   "execution_count": 6,
   "metadata": {},
   "outputs": [
    {
     "data": {
      "text/plain": [
       "(30972, 4)"
      ]
     },
     "execution_count": 6,
     "metadata": {},
     "output_type": "execute_result"
    }
   ],
   "source": [
    "yLabels.shape"
   ]
  },
  {
   "cell_type": "code",
   "execution_count": 7,
   "metadata": {},
   "outputs": [
    {
     "data": {
      "text/plain": [
       "(30972, 10, 15)"
      ]
     },
     "execution_count": 7,
     "metadata": {},
     "output_type": "execute_result"
    }
   ],
   "source": [
    "xSamples.shape"
   ]
  },
  {
   "cell_type": "code",
   "execution_count": 8,
   "metadata": {},
   "outputs": [],
   "source": [
    "X_train, X_test, Y_train, Y_test = train_test_split(xSamples, yLabels, test_size=0.2)"
   ]
  },
  {
   "cell_type": "code",
   "execution_count": 9,
   "metadata": {},
   "outputs": [],
   "source": [
    "verbose, epochs, batch_size = 1, 10, 16\n",
    "n_timesteps, n_features, n_outputs = X_train.shape[1], X_train.shape[2], Y_train.shape[1]"
   ]
  },
  {
   "cell_type": "code",
   "execution_count": 10,
   "metadata": {},
   "outputs": [
    {
     "name": "stdout",
     "output_type": "stream",
     "text": [
      "Model: \"sequential\"\n",
      "_________________________________________________________________\n",
      "Layer (type)                 Output Shape              Param #   \n",
      "=================================================================\n",
      "lstm (LSTM)                  (None, 100)               46400     \n",
      "_________________________________________________________________\n",
      "dropout (Dropout)            (None, 100)               0         \n",
      "_________________________________________________________________\n",
      "dense (Dense)                (None, 100)               10100     \n",
      "_________________________________________________________________\n",
      "dense_1 (Dense)              (None, 4)                 404       \n",
      "=================================================================\n",
      "Total params: 56,904\n",
      "Trainable params: 56,904\n",
      "Non-trainable params: 0\n",
      "_________________________________________________________________\n"
     ]
    }
   ],
   "source": [
    "model = Sequential()\n",
    "model.add(LSTM(100, input_shape=(n_timesteps, n_features)))\n",
    "model.add(Dropout(0.5))\n",
    "model.add(Dense(100, activation='relu'))\n",
    "model.add(Dense(n_outputs, activation='softmax'))\n",
    "model.compile(loss='categorical_crossentropy', optimizer='adam', metrics = ['accuracy'])\n",
    "model.summary()"
   ]
  },
  {
   "cell_type": "code",
   "execution_count": 11,
   "metadata": {},
   "outputs": [
    {
     "name": "stdout",
     "output_type": "stream",
     "text": [
      "Train on 24777 samples, validate on 6195 samples\n",
      "Epoch 1/10\n",
      "24777/24777 [==============================] - 16s 651us/sample - loss: 0.6316 - accuracy: 0.6892 - val_loss: 0.3527 - val_accuracy: 0.8483\n",
      "Epoch 2/10\n",
      "24777/24777 [==============================] - 11s 425us/sample - loss: 0.3305 - accuracy: 0.8492 - val_loss: 0.2745 - val_accuracy: 0.8542\n",
      "Epoch 3/10\n",
      "24777/24777 [==============================] - 10s 415us/sample - loss: 0.2816 - accuracy: 0.8782 - val_loss: 0.3963 - val_accuracy: 0.8470\n",
      "Epoch 4/10\n",
      "24777/24777 [==============================] - 10s 410us/sample - loss: 0.2306 - accuracy: 0.9026 - val_loss: 0.1339 - val_accuracy: 0.9504\n",
      "Epoch 5/10\n",
      "24777/24777 [==============================] - 10s 411us/sample - loss: 0.1648 - accuracy: 0.9366 - val_loss: 0.1593 - val_accuracy: 0.9324\n",
      "Epoch 6/10\n",
      "24777/24777 [==============================] - 10s 410us/sample - loss: 0.1447 - accuracy: 0.9422 - val_loss: 0.1217 - val_accuracy: 0.9374\n",
      "Epoch 7/10\n",
      "24777/24777 [==============================] - 10s 415us/sample - loss: 0.1335 - accuracy: 0.9505 - val_loss: 0.0717 - val_accuracy: 0.9821\n",
      "Epoch 8/10\n",
      "24777/24777 [==============================] - 11s 426us/sample - loss: 0.0950 - accuracy: 0.9685 - val_loss: 0.0242 - val_accuracy: 0.9921\n",
      "Epoch 9/10\n",
      "24777/24777 [==============================] - 10s 424us/sample - loss: 0.0608 - accuracy: 0.9804 - val_loss: 0.0393 - val_accuracy: 0.9864\n",
      "Epoch 10/10\n",
      "24777/24777 [==============================] - 11s 428us/sample - loss: 0.0547 - accuracy: 0.9823 - val_loss: 0.0427 - val_accuracy: 0.9826\n"
     ]
    }
   ],
   "source": [
    "history = model.fit(X_train, Y_train, epochs=epochs, batch_size=batch_size, validation_data=(X_test, Y_test), verbose=verbose)"
   ]
  },
  {
   "cell_type": "code",
   "execution_count": 12,
   "metadata": {},
   "outputs": [],
   "source": [
    "_, accuracy =  model.evaluate(X_test, Y_test, batch_size=batch_size, verbose=0)"
   ]
  },
  {
   "cell_type": "code",
   "execution_count": 13,
   "metadata": {},
   "outputs": [
    {
     "data": {
      "text/plain": [
       "0.9825666"
      ]
     },
     "execution_count": 13,
     "metadata": {},
     "output_type": "execute_result"
    }
   ],
   "source": [
    "accuracy"
   ]
  },
  {
   "cell_type": "code",
   "execution_count": 14,
   "metadata": {},
   "outputs": [
    {
     "data": {
      "image/png": "[encoded data removed]",
      "text/plain": [
       "<Figure size 432x288 with 1 Axes>"
      ]
     },
     "metadata": {
      "needs_background": "light"
     },
     "output_type": "display_data"
    }
   ],
   "source": [
    "# graphical results\n",
    "plt.figure()\n",
    "plt.plot(history.history['loss'], 'bo--')\n",
    "plt.plot(history.history['val_loss'], 'ro-')\n",
    "plt.ylabel('Loss')\n",
    "plt.xlabel('Epochs (n)')\n",
    "plt.legend(['Training loss', 'Validation loss'])\n",
    "plt.show()"
   ]
  },
  {
   "cell_type": "code",
   "execution_count": 15,
   "metadata": {},
   "outputs": [
    {
     "data": {
      "image/png": "[encoded data removed]",
      "text/plain": [
       "<Figure size 432x288 with 1 Axes>"
      ]
     },
     "metadata": {
      "needs_background": "light"
     },
     "output_type": "display_data"
    }
   ],
   "source": [
    "plt.figure()\n",
    "plt.plot(history.history['accuracy'], 'bo--')\n",
    "plt.plot(history.history['val_accuracy'], 'ro-')\n",
    "plt.ylabel('Accuracy')\n",
    "plt.xlabel('Epochs (n)')\n",
    "plt.legend(['Training accuracy', 'Validation accuracy'])\n",
    "plt.show()"
   ]
  },
  {
   "cell_type": "code",
   "execution_count": null,
   "metadata": {},
   "outputs": [],
   "source": []
  }
 ],
 "metadata": {
  "kernelspec": {
   "display_name": "Python 3",
   "language": "python",
   "name": "python3"
  },
  "language_info": {
   "codemirror_mode": {
    "name": "ipython",
    "version": 3
   },
   "file_extension": ".py",
   "mimetype": "text/x-python",
   "name": "python",
   "nbconvert_exporter": "python",
   "pygments_lexer": "ipython3",
   "version": "3.7.5"
  }
 },
 "nbformat": 4,
 "nbformat_minor": 2
}
